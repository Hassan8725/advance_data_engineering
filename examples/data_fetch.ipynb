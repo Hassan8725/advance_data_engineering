{
 "cells": [
  {
   "cell_type": "code",
   "execution_count": 13,
   "metadata": {},
   "outputs": [
    {
     "name": "stdout",
     "output_type": "stream",
     "text": [
      "        Time   Latitude  Longitude  Precipitation\n",
      "0  1317024.0  88.572169   -180.000       0.668401\n",
      "1  1317024.0  88.572169   -178.125       0.687640\n",
      "2  1317024.0  88.572169   -176.250       0.255034\n",
      "3  1317024.0  88.572169   -174.375      -0.040971\n",
      "4  1317024.0  88.572169   -172.500      -0.436082\n"
     ]
    }
   ],
   "source": [
    "import netCDF4 as nc\n",
    "import pandas as pd\n",
    "import numpy as np\n",
    "\n",
    "\n",
    "# Open the NetCDF file\n",
    "file_path = '../data/rcp/rcp26_mean1-3_LR_dprecip_mm_2000-2096vsMean1986-2005_proz_rm9_MAM_ym.nc'\n",
    "data = nc.Dataset(file_path, 'r')\n",
    "\n",
    "# Extract variables\n",
    "time = data.variables['time'][:]\n",
    "lon = data.variables['lon'][:]\n",
    "lat = data.variables['lat'][:]\n",
    "precip = data.variables['precip'][:]\n",
    "\n",
    "# Flatten the data for precipitation to match each time, lat, and lon combination\n",
    "# Assuming precip is a 3D array [time, lat, lon]\n",
    "precip_flattened = precip.flatten()\n",
    "time_expanded = np.repeat(time, len(lat) * len(lon))\n",
    "lat_expanded = np.tile(np.repeat(lat, len(lon)), len(time))\n",
    "lon_expanded = np.tile(lon, len(time) * len(lat))\n",
    "\n",
    "# Create a DataFrame\n",
    "df = pd.DataFrame({\n",
    "    'Time': time_expanded,\n",
    "    'Latitude': lat_expanded,\n",
    "    'Longitude': lon_expanded,\n",
    "    'Precipitation': precip_flattened\n",
    "})\n",
    "\n",
    "# Display the first few rows of the DataFrame\n",
    "print(df.head())\n",
    "\n",
    "# Close the dataset\n",
    "data.close()\n"
   ]
  }
 ],
 "metadata": {
  "kernelspec": {
   "display_name": ".venv_ade",
   "language": "python",
   "name": "python3"
  },
  "language_info": {
   "codemirror_mode": {
    "name": "ipython",
    "version": 3
   },
   "file_extension": ".py",
   "mimetype": "text/x-python",
   "name": "python",
   "nbconvert_exporter": "python",
   "pygments_lexer": "ipython3",
   "version": "3.11.9"
  }
 },
 "nbformat": 4,
 "nbformat_minor": 2
}
